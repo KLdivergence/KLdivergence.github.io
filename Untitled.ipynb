{
 "cells": [
  {
   "cell_type": "code",
   "execution_count": 2,
   "id": "three-minister",
   "metadata": {},
   "outputs": [],
   "source": [
    "import os"
   ]
  },
  {
   "cell_type": "code",
   "execution_count": 9,
   "id": "hundred-relationship",
   "metadata": {},
   "outputs": [],
   "source": [
    "from heapq import heappush, heappop\n",
    "li = os.listdir(\"docs\")\n",
    "index = []"
   ]
  },
  {
   "cell_type": "code",
   "execution_count": 14,
   "id": "cordless-diameter",
   "metadata": {},
   "outputs": [
    {
     "name": "stdout",
     "output_type": "stream",
     "text": [
      "- 0.前言: 0.前言.md\n",
      "- 1.机器学习概览: 1.机器学习概览.md\n",
      "- 2.一个完整的机器学习项目: 2.一个完整的机器学习项目.md\n",
      "- 3.分类: 3.分类.md\n",
      "- 4.训练模型: 4.训练模型.md\n",
      "- 5.支持向量机: 5.支持向量机.md\n",
      "- 6.决策树: 6.决策树.md\n",
      "- 7.集成学习和随机森林: 7.集成学习和随机森林.md\n",
      "- 8.降维: 8.降维.md\n",
      "- 9.启动并运行_TensorFlow: 9.启动并运行_TensorFlow.md\n",
      "- 10.人工神经网络介绍: 10.人工神经网络介绍.md\n",
      "- 11.训练深层神经网络: 11.训练深层神经网络.md\n",
      "- 12.设备和服务器上的分布式_TensorFlow: 12.设备和服务器上的分布式_TensorFlow.md\n",
      "- 13.卷积神经网络: 13.卷积神经网络.md\n",
      "- 14.循环神经网络: 14.循环神经网络.md\n",
      "- 15.自编码器: 15.自编码器.md\n",
      "- 16.强化学习: 16.强化学习.md\n",
      "- C.SVM_对偶问题: C.SVM_对偶问题.md\n",
      "- D.自动微分: D.自动微分.md\n"
     ]
    }
   ],
   "source": [
    "for it in li:\n",
    "    temp = it.split(\".\")\n",
    "    if temp[0].isdigit():\n",
    "        heappush(index, [int(temp[0]), temp[0]+'.'+temp[1], it])\n",
    "    else:\n",
    "        heappush(index, [ord(temp[0]), temp[0]+'.'+temp[1], it])\n",
    "while index:\n",
    "    temp = heappop(index)\n",
    "    print(\"- \"+temp[1]+\": \" + temp[2])"
   ]
  }
 ],
 "metadata": {
  "kernelspec": {
   "display_name": "Python 3",
   "language": "python",
   "name": "python3"
  },
  "language_info": {
   "codemirror_mode": {
    "name": "ipython",
    "version": 3
   },
   "file_extension": ".py",
   "mimetype": "text/x-python",
   "name": "python",
   "nbconvert_exporter": "python",
   "pygments_lexer": "ipython3",
   "version": "3.8.5"
  }
 },
 "nbformat": 4,
 "nbformat_minor": 5
}
